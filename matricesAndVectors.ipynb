{
  "nbformat": 4,
  "nbformat_minor": 0,
  "metadata": {
    "colab": {
      "name": "matricesAndVectors.ipynb",
      "provenance": [],
      "collapsed_sections": []
    },
    "kernelspec": {
      "name": "python3",
      "display_name": "Python 3"
    },
    "language_info": {
      "name": "python"
    }
  },
  "cells": [
    {
      "cell_type": "markdown",
      "source": [
        "$A_{m,n} =\n",
        " \\begin{pmatrix}\n",
        "  a_{1,1} & a_{1,2} & \\cdots & a_{1,n} \\\\\n",
        "  a_{2,1} & a_{2,2} & \\cdots & a_{2,n} \\\\\n",
        "  \\vdots  & \\vdots  & \\ddots & \\vdots  \\\\\n",
        "  a_{m,1} & a_{m,2} & \\cdots & a_{m,n}\n",
        " \\end{pmatrix}$"
      ],
      "metadata": {
        "id": "-gIZNBHfshgy"
      }
    },
    {
      "cell_type": "code",
      "execution_count": null,
      "metadata": {
        "id": "8ZWkzJ_zh_a0",
        "colab": {
          "base_uri": "https://localhost:8080/"
        },
        "outputId": "b8d79323-10dd-4ade-959d-42de207b469c"
      },
      "outputs": [
        {
          "output_type": "execute_result",
          "data": {
            "text/plain": [
              "(3, 1)"
            ]
          },
          "metadata": {},
          "execution_count": 15
        }
      ],
      "source": [
        "import numpy as np\n",
        "\n",
        "A = np.array([[1,2,3], [2,3,4]]) \n",
        "A.shape\n"
      ]
    },
    {
      "cell_type": "markdown",
      "source": [
        "$v_{m} =\n",
        " \\begin{pmatrix}\n",
        "  v_{1}\\\\\n",
        "  v_{2} \\\\\n",
        "  \\vdots \\\\\n",
        "  v_{m}\n",
        " \\end{pmatrix}$"
      ],
      "metadata": {
        "id": "vqp29_-5tPgd"
      }
    },
    {
      "cell_type": "code",
      "source": [
        "v = np.array([1,2,3]).reshape(3,1) \n",
        "v.shape"
      ],
      "metadata": {
        "id": "TuXUCncgimMh"
      },
      "execution_count": null,
      "outputs": []
    },
    {
      "cell_type": "code",
      "source": [
        "B=np.array([[10, 4, 9], [2,4,8],[20,4,18],[23, 7, 5]])\n",
        "B.shape"
      ],
      "metadata": {
        "colab": {
          "base_uri": "https://localhost:8080/"
        },
        "id": "1ZGMZDq8uF8E",
        "outputId": "748fdd9f-6d30-410a-e80e-133000913cba"
      },
      "execution_count": null,
      "outputs": [
        {
          "output_type": "execute_result",
          "data": {
            "text/plain": [
              "(4, 3)"
            ]
          },
          "metadata": {},
          "execution_count": 16
        }
      ]
    },
    {
      "cell_type": "code",
      "source": [
        "A=np.arange(12).reshape(4,3)\n",
        "A"
      ],
      "metadata": {
        "colab": {
          "base_uri": "https://localhost:8080/"
        },
        "id": "xGmCyXLauayl",
        "outputId": "4f149c5f-0004-4c41-f1be-41a20574666c"
      },
      "execution_count": null,
      "outputs": [
        {
          "output_type": "execute_result",
          "data": {
            "text/plain": [
              "array([[ 0,  1,  2],\n",
              "       [ 3,  4,  5],\n",
              "       [ 6,  7,  8],\n",
              "       [ 9, 10, 11]])"
            ]
          },
          "metadata": {},
          "execution_count": 21
        }
      ]
    },
    {
      "cell_type": "code",
      "source": [
        "A+B"
      ],
      "metadata": {
        "colab": {
          "base_uri": "https://localhost:8080/"
        },
        "id": "Aje9U4POufFu",
        "outputId": "f11829ca-50b7-404b-873d-1512dbda9c96"
      },
      "execution_count": null,
      "outputs": [
        {
          "output_type": "execute_result",
          "data": {
            "text/plain": [
              "array([[10,  5, 11],\n",
              "       [ 5,  8, 13],\n",
              "       [26, 11, 26],\n",
              "       [32, 17, 16]])"
            ]
          },
          "metadata": {},
          "execution_count": 19
        }
      ]
    },
    {
      "cell_type": "code",
      "source": [
        "A-B"
      ],
      "metadata": {
        "colab": {
          "base_uri": "https://localhost:8080/"
        },
        "id": "_6VIkbtburrr",
        "outputId": "96996ad1-774f-4be8-a173-b004b275b0c7"
      },
      "execution_count": null,
      "outputs": [
        {
          "output_type": "execute_result",
          "data": {
            "text/plain": [
              "array([[-10,  -3,  -7],\n",
              "       [  1,   0,  -3],\n",
              "       [-14,   3, -10],\n",
              "       [-14,   3,   6]])"
            ]
          },
          "metadata": {},
          "execution_count": 20
        }
      ]
    },
    {
      "cell_type": "markdown",
      "source": [
        "Use `np.random.rand` to create an array of the given shape and populate it with random samples from a uniform distribution over [0, 1)."
      ],
      "metadata": {
        "id": "lHKY9mTPviYV"
      }
    },
    {
      "cell_type": "code",
      "source": [
        "A=np.random.rand(4,3)*100\n",
        "A"
      ],
      "metadata": {
        "colab": {
          "base_uri": "https://localhost:8080/"
        },
        "id": "2X1_y0JCutN6",
        "outputId": "d32bb1fd-8c93-4a40-c166-3ce97a3a6c6b"
      },
      "execution_count": null,
      "outputs": [
        {
          "output_type": "execute_result",
          "data": {
            "text/plain": [
              "array([[81.19342664, 89.58654711,  2.27867658],\n",
              "       [32.1106289 , 45.96559466, 80.13756286],\n",
              "       [87.29760781, 15.52413651, 84.84097258],\n",
              "       [34.42054192, 78.47835401, 85.88487181]])"
            ]
          },
          "metadata": {},
          "execution_count": 25
        }
      ]
    },
    {
      "cell_type": "markdown",
      "source": [
        "Use `np.random.randn` to generates an array of given shape, filled with random floats sampled from a univariate “normal” (Gaussian) distribution of mean 0 and variance 1."
      ],
      "metadata": {
        "id": "LLO9MUV2wOpp"
      }
    },
    {
      "cell_type": "code",
      "source": [
        "A=np.random.randn(12).reshape(4,3)\n",
        "A"
      ],
      "metadata": {
        "colab": {
          "base_uri": "https://localhost:8080/"
        },
        "id": "HPud6a1MvG4y",
        "outputId": "033370e6-a6ba-489e-d385-03c5e473b4d1"
      },
      "execution_count": null,
      "outputs": [
        {
          "output_type": "execute_result",
          "data": {
            "text/plain": [
              "array([[ 0.69841657, -1.38368259,  1.08718092],\n",
              "       [-3.38339883,  1.54657978, -1.99031818],\n",
              "       [ 0.04623468,  1.04330996,  0.73284472],\n",
              "       [ 0.92647437, -1.11638338,  0.25727282]])"
            ]
          },
          "metadata": {},
          "execution_count": 30
        }
      ]
    },
    {
      "cell_type": "code",
      "source": [
        "A+B"
      ],
      "metadata": {
        "colab": {
          "base_uri": "https://localhost:8080/"
        },
        "id": "TskwxDKyvZ_Q",
        "outputId": "5fbd722e-6f1a-47e3-fbbc-939b987a60a8"
      },
      "execution_count": null,
      "outputs": [
        {
          "output_type": "execute_result",
          "data": {
            "text/plain": [
              "array([[10.69841657,  2.61631741, 10.08718092],\n",
              "       [-1.38339883,  5.54657978,  6.00968182],\n",
              "       [20.04623468,  5.04330996, 18.73284472],\n",
              "       [23.92647437,  5.88361662,  5.25727282]])"
            ]
          },
          "metadata": {},
          "execution_count": 31
        }
      ]
    },
    {
      "cell_type": "markdown",
      "source": [
        "The * operator can be used as a shorthand for np.multiply on ndarrays"
      ],
      "metadata": {
        "id": "ebk5V5tKxHu8"
      }
    },
    {
      "cell_type": "code",
      "source": [
        "A*B"
      ],
      "metadata": {
        "colab": {
          "base_uri": "https://localhost:8080/"
        },
        "id": "9wVNKNw8wlR4",
        "outputId": "2b3b2271-da08-445c-9af1-239c71844eeb"
      },
      "execution_count": null,
      "outputs": [
        {
          "output_type": "execute_result",
          "data": {
            "text/plain": [
              "array([[  6.98416575,  -5.53473035,   9.78462829],\n",
              "       [ -6.76679765,   6.18631911, -15.92254541],\n",
              "       [  0.92469363,   4.17323986,  13.1912049 ],\n",
              "       [ 21.30891049,  -7.81468368,   1.28636412]])"
            ]
          },
          "metadata": {},
          "execution_count": 32
        }
      ]
    },
    {
      "cell_type": "code",
      "source": [
        ""
      ],
      "metadata": {
        "id": "O35sARtUxKCA"
      },
      "execution_count": null,
      "outputs": []
    }
  ]
}